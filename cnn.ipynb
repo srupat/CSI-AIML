{
  "nbformat": 4,
  "nbformat_minor": 0,
  "metadata": {
    "colab": {
      "provenance": [],
      "authorship_tag": "ABX9TyM8V759pC0BCTxRblkX94m1"
    },
    "kernelspec": {
      "name": "python3",
      "display_name": "Python 3"
    },
    "language_info": {
      "name": "python"
    }
  },
  "cells": [
    {
      "cell_type": "markdown",
      "source": [
        "## Including all Libraries"
      ],
      "metadata": {
        "id": "7uaY6tebc586"
      }
    },
    {
      "cell_type": "code",
      "source": [
        "import numpy as np\n",
        "import keras\n",
        "from keras.datasets import mnist\n",
        "from keras.models import Model\n",
        "from keras.layers import Dense, Input\n",
        "from keras.layers import Conv2D, MaxPooling2D, Dropout, Flatten\n",
        "from keras import backend as k"
      ],
      "metadata": {
        "id": "ZaUtW3ALb0F1"
      },
      "execution_count": 1,
      "outputs": []
    },
    {
      "cell_type": "markdown",
      "source": [
        "### Splitting the dataset"
      ],
      "metadata": {
        "id": "Ff8JgAt7dAEm"
      }
    },
    {
      "cell_type": "code",
      "source": [
        "(x_train, y_train), (x_test, y_test) = mnist.load_data()\n"
      ],
      "metadata": {
        "colab": {
          "base_uri": "https://localhost:8080/"
        },
        "id": "_wuyUnvjc3dj",
        "outputId": "9cf46b77-d92a-4647-a746-580ee7c0e4ec"
      },
      "execution_count": 2,
      "outputs": [
        {
          "output_type": "stream",
          "name": "stdout",
          "text": [
            "Downloading data from https://storage.googleapis.com/tensorflow/tf-keras-datasets/mnist.npz\n",
            "11490434/11490434 [==============================] - 0s 0us/step\n"
          ]
        }
      ]
    },
    {
      "cell_type": "markdown",
      "source": [
        "### Check the data format - Channels first/Channels Last (NCHW and NHCW)\n",
        "Also normalizing the data"
      ],
      "metadata": {
        "id": "tDK9b_vEdVoC"
      }
    },
    {
      "cell_type": "code",
      "source": [
        "img_rows, img_cols=28, 28\n",
        "\n",
        "if k.image_data_format() == 'channels_first':\n",
        "  x_train = x_train.reshape(x_train.shape[0], 1, img_rows, img_cols)\n",
        "  x_test = x_test.reshape(x_test.shape[0], 1, img_rows, img_cols)\n",
        "  inpx = (1, img_rows, img_cols)\n",
        "\n",
        "else:\n",
        "  x_train = x_train.reshape(x_train.shape[0], img_rows, img_cols, 1)\n",
        "  x_test = x_test.reshape(x_test.shape[0], img_rows, img_cols, 1)\n",
        "  inpx = (img_rows, img_cols, 1)\n",
        "\n",
        "x_train = x_train.astype('float32')\n",
        "x_test = x_test.astype('float32')\n",
        "x_train /= 255\n",
        "x_test /= 255"
      ],
      "metadata": {
        "id": "_pE0aKEBdM8d"
      },
      "execution_count": 3,
      "outputs": []
    },
    {
      "cell_type": "markdown",
      "source": [
        "### Describe the output classes"
      ],
      "metadata": {
        "id": "IcrFa7P6fBnV"
      }
    },
    {
      "cell_type": "code",
      "source": [
        "y_train = keras.utils.to_categorical(y_train)\n",
        "y_test = keras.utils.to_categorical(y_test)"
      ],
      "metadata": {
        "id": "SSHvcq31e7Lh"
      },
      "execution_count": 4,
      "outputs": []
    },
    {
      "cell_type": "markdown",
      "source": [
        "### Model"
      ],
      "metadata": {
        "id": "AlZdg-vafV6W"
      }
    },
    {
      "cell_type": "code",
      "source": [
        "inpx = Input(shape=inpx)\n",
        "layer1 = Conv2D(32, kernel_size=(3, 3), activation='relu')(inpx) #32 filters each of size 3 x 3\n",
        "layer2 = Conv2D(64, (3, 3), activation='relu')(layer1) # 64 filters each of size 3 x 3\n",
        "layer3 = MaxPooling2D(pool_size=(3, 3))(layer2)\n",
        "layer4 = Dropout(0.5)(layer3) # regularization, drops out the neurons with lower probability\n",
        "layer5 = Flatten()(layer4)\n",
        "layer6 = Dense(250, activation='sigmoid')(layer5)\n",
        "layer7 = Dense(10, activation='softmax')(layer6) # softmax assigns probabilistic values to input values"
      ],
      "metadata": {
        "id": "UHLqHBmLfVac"
      },
      "execution_count": 5,
      "outputs": []
    },
    {
      "cell_type": "code",
      "source": [
        "model = Model([inpx], layer7)\n",
        "model.compile(optimizer=keras.optimizers.Adadelta(), # a kind of gradient descent optimizer\n",
        "              loss=keras.losses.categorical_crossentropy,\n",
        "              metrics=['accuracy'])\n",
        "\n",
        "model.fit(x_train, y_train, epochs=12, batch_size=32)"
      ],
      "metadata": {
        "colab": {
          "base_uri": "https://localhost:8080/"
        },
        "id": "emVcEVYcfJu-",
        "outputId": "bd95feed-244d-4cd7-a7f6-e7a723b3fb7c"
      },
      "execution_count": 9,
      "outputs": [
        {
          "output_type": "stream",
          "name": "stdout",
          "text": [
            "Epoch 1/12\n",
            "1875/1875 [==============================] - 159s 84ms/step - loss: 2.3852 - accuracy: 0.0993\n",
            "Epoch 2/12\n",
            "1875/1875 [==============================] - 156s 83ms/step - loss: 2.2851 - accuracy: 0.1316\n",
            "Epoch 3/12\n",
            "1875/1875 [==============================] - 157s 83ms/step - loss: 2.1951 - accuracy: 0.4004\n",
            "Epoch 4/12\n",
            "1875/1875 [==============================] - 157s 83ms/step - loss: 2.1017 - accuracy: 0.5454\n",
            "Epoch 5/12\n",
            "1875/1875 [==============================] - 158s 84ms/step - loss: 1.9834 - accuracy: 0.5727\n",
            "Epoch 6/12\n",
            "1875/1875 [==============================] - 160s 85ms/step - loss: 1.8176 - accuracy: 0.6330\n",
            "Epoch 7/12\n",
            "1875/1875 [==============================] - 156s 83ms/step - loss: 1.6029 - accuracy: 0.6842\n",
            "Epoch 8/12\n",
            "1875/1875 [==============================] - 156s 83ms/step - loss: 1.3723 - accuracy: 0.7185\n",
            "Epoch 9/12\n",
            "1875/1875 [==============================] - 156s 83ms/step - loss: 1.1742 - accuracy: 0.7405\n",
            "Epoch 10/12\n",
            "1875/1875 [==============================] - 159s 85ms/step - loss: 1.0258 - accuracy: 0.7584\n",
            "Epoch 11/12\n",
            "1875/1875 [==============================] - 160s 85ms/step - loss: 0.9197 - accuracy: 0.7724\n",
            "Epoch 12/12\n",
            "1875/1875 [==============================] - 159s 85ms/step - loss: 0.8458 - accuracy: 0.7841\n"
          ]
        },
        {
          "output_type": "execute_result",
          "data": {
            "text/plain": [
              "<keras.src.callbacks.History at 0x7b5fbfb13700>"
            ]
          },
          "metadata": {},
          "execution_count": 9
        }
      ]
    },
    {
      "cell_type": "code",
      "source": [
        "import matplotlib.pyplot as plt\n",
        "# print(model.history.history.keys())\n",
        "\n",
        "plt.plot(model.history.history['accuracy'])\n",
        "plt.plot(model.history.history['loss'])\n",
        "plt.title('model accuracy')\n",
        "plt.ylabel('accuracy')\n",
        "plt.xlabel('epoch')\n",
        "plt.legend(['accuracy', 'loss'], loc='upper left')\n",
        "plt.show()"
      ],
      "metadata": {
        "colab": {
          "base_uri": "https://localhost:8080/",
          "height": 472
        },
        "id": "v8OdZE2a_PIv",
        "outputId": "16a23e61-7d36-4d74-92f1-34cf95cb6c53"
      },
      "execution_count": 22,
      "outputs": [
        {
          "output_type": "display_data",
          "data": {
            "text/plain": [
              "<Figure size 640x480 with 1 Axes>"
            ],
            "image/png": "[encoded data removed]"
          },
          "metadata": {}
        }
      ]
    }
  ]
}