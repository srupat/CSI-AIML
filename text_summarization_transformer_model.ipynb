{
 "cells": [
  {
   "cell_type": "markdown",
   "metadata": {},
   "source": [
    "### Import Modules\n"
   ]
  },
  {
   "cell_type": "code",
   "execution_count": 2,
   "metadata": {},
   "outputs": [],
   "source": [
    "import torch\n",
    "from transformers import T5Tokenizer, T5ForConditionalGeneration, T5Config\n",
    "import sentencepiece"
   ]
  },
  {
   "cell_type": "markdown",
   "metadata": {},
   "source": [
    "### Initialize the transformer model"
   ]
  },
  {
   "cell_type": "code",
   "execution_count": 4,
   "metadata": {},
   "outputs": [
    {
     "name": "stderr",
     "output_type": "stream",
     "text": [
      "c:\\Users\\sruja\\AppData\\Local\\Programs\\Python\\Python311\\Lib\\site-packages\\transformers\\models\\t5\\tokenization_t5.py:220: FutureWarning: This tokenizer was incorrectly instantiated with a model max length of 512 which will be corrected in Transformers v5.\n",
      "For now, this behavior is kept to avoid breaking backwards compatibility when padding/encoding with `truncation is True`.\n",
      "- Be aware that you SHOULD NOT rely on t5-base automatically truncating your input to 512 when padding/encoding.\n",
      "- If you want to encode/pad to sequences longer than 512 you can either instantiate this tokenizer with `model_max_length` or pass `max_length` when encoding/padding.\n",
      "- To avoid this warning, please instantiate this tokenizer with `model_max_length` set to your preferred value.\n",
      "  warnings.warn(\n"
     ]
    }
   ],
   "source": [
    "model = T5ForConditionalGeneration.from_pretrained(\"t5-base\")\n",
    "tokenizer = T5Tokenizer.from_pretrained(\"t5-base\")"
   ]
  },
  {
   "cell_type": "code",
   "execution_count": 5,
   "metadata": {},
   "outputs": [],
   "source": [
    "text = '''Chess is a timeless game that has captivated the minds of people from all walks of life for centuries. It is a battle of wits, strategy, and foresight played out on a checkered battlefield, where 32 intricately designed pieces are moved with precision and purpose.\n",
    "\n",
    "The origins of chess are shrouded in mystery, but it is believed to have originated in Northern India during the Gupta Empire, around the 6th century AD. From there, it spread to Persia, where it was known as \"shatranj,\" and then made its way to the Islamic world and Europe. Chess quickly became a symbol of nobility and intellect, with rulers and scholars alike embracing the game as a test of mental acumen.\n",
    "\n",
    "The chessboard itself is a 64-square grid, alternately colored in black and white. Each player starts with 16 pieces: one king, one queen, two rooks, two knights, two bishops, and eight pawns. The objective is simple yet profound: checkmate the opponent's king while safeguarding your own.\n",
    "\n",
    "The queen is often referred to as the most powerful piece on the board, capable of moving horizontally, vertically, and diagonally. The knights move in an L-shape, making them unpredictable and versatile. Rooks are straight-line specialists, bishops traverse diagonally, and pawns are the foot soldiers that advance cautiously.\n",
    "\n",
    "Chess is more than just a game; it's a mental workout. Players must anticipate their opponent's moves, plan multiple steps ahead, and adapt to changing circumstances. It demands creativity, patience, and unwavering focus.\n",
    "\n",
    "One of the most famous openings in chess is the \"Sicilian Defense,\" where black responds to white's e4 with c5. This sets the stage for a complex and tactical battle, where both sides vie for control of the center of the board.\n",
    "\n",
    "Chess has seen its fair share of legendary players. Garry Kasparov, Bobby Fischer, and Anatoly Karpov are names that echo through the annals of chess history. These grandmasters have left an indelible mark on the game, showcasing the boundless depths of human intelligence.\n",
    "\n",
    "The game of chess has also transcended the physical board. Online chess platforms have made it accessible to millions, allowing players from different continents to compete in real-time. Chess engines like Stockfish and AlphaZero have pushed the boundaries of what is possible, challenging the very nature of human versus machine.\n",
    "\n",
    "Chess tournaments, from local club competitions to international championships, bring together players of all ages and backgrounds. It is a game that unites people, transcending language and culture. The tension in the air during a decisive endgame is palpable, and the exhilaration of a well-executed combination is unmatched.\n",
    "\n",
    "In recent years, chess has experienced a resurgence in popularity, thanks in part to streaming platforms like Twitch, where grandmasters and amateurs alike share their games and insights with a global audience. Chess is no longer confined to dimly lit chess clubs; it's a global phenomenon.\n",
    "\n",
    "As we move forward into the digital age, chess continues to evolve. Its rich history, strategic depth, and enduring appeal ensure that it will remain a timeless pursuit for generations to come. Whether you're a beginner just learning the rules or a seasoned grandmaster plotting your next move, chess offers an infinite world of possibilities on its 64 squares.'''"
   ]
  },
  {
   "cell_type": "markdown",
   "metadata": {},
   "source": [
    "### Preprocess the text"
   ]
  },
  {
   "cell_type": "code",
   "execution_count": 7,
   "metadata": {},
   "outputs": [],
   "source": [
    "inputs = tokenizer.encode(text, return_tensors=\"pt\", max_length=512, truncation=True)"
   ]
  },
  {
   "cell_type": "code",
   "execution_count": 8,
   "metadata": {},
   "outputs": [],
   "source": [
    "output = model.generate(inputs,\n",
    "                        min_length = 40,\n",
    "                        max_length = 200,\n",
    "                        length_penalty=1.0,\n",
    "                        num_beams=4,\n",
    "                        early_stopping=True\n",
    "                        )"
   ]
  },
  {
   "cell_type": "code",
   "execution_count": 14,
   "metadata": {},
   "outputs": [],
   "source": [
    "generated_text = tokenizer.decode(output[0], skip_special_tokens=True)\n"
   ]
  },
  {
   "cell_type": "code",
   "execution_count": 15,
   "metadata": {},
   "outputs": [
    {
     "name": "stdout",
     "output_type": "stream",
     "text": [
      "pawns, two bishops, and eight pawns. Each player starts with 16 pieces: one king, one queen, two rooks, two knights, two bishops, and eight pawns. Each player starts with 16 pieces: one king, one queen, two rooks, two knights, two bishops, and eight pawns. chess has seen its fair share of legendary players. Garry Kasparov, Bobby Fischer, and Anato\n"
     ]
    }
   ],
   "source": [
    "print(generated_text)"
   ]
  },
  {
   "cell_type": "markdown",
   "metadata": {},
   "source": []
  }
 ],
 "metadata": {
  "kernelspec": {
   "display_name": "Python 3",
   "language": "python",
   "name": "python3"
  },
  "language_info": {
   "codemirror_mode": {
    "name": "ipython",
    "version": 3
   },
   "file_extension": ".py",
   "mimetype": "text/x-python",
   "name": "python",
   "nbconvert_exporter": "python",
   "pygments_lexer": "ipython3",
   "version": "3.11.2"
  },
  "orig_nbformat": 4
 },
 "nbformat": 4,
 "nbformat_minor": 2
}
