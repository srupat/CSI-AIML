{
 "cells": [
  {
   "cell_type": "markdown",
   "id": "c39b7b1b-ce64-4cfb-a7c8-5eac4ecfa6a4",
   "metadata": {},
   "source": [
    "#### testing out jupyter notebook"
   ]
  },
  {
   "cell_type": "code",
   "execution_count": 1,
   "id": "188ce807-37c0-4c96-93a5-89052aeda1f3",
   "metadata": {},
   "outputs": [
    {
     "name": "stdout",
     "output_type": "stream",
     "text": [
      "hello jupyter world\n"
     ]
    }
   ],
   "source": [
    "print(\"hello jupyter world\")"
   ]
  },
  {
   "cell_type": "markdown",
   "id": "85fb355a-b528-409d-92bf-df65ba75f982",
   "metadata": {},
   "source": []
  }
 ],
 "metadata": {
  "kernelspec": {
   "display_name": "Python 3 (ipykernel)",
   "language": "python",
   "name": "python3"
  },
  "language_info": {
   "codemirror_mode": {
    "name": "ipython",
    "version": 3
   },
   "file_extension": ".py",
   "mimetype": "text/x-python",
   "name": "python",
   "nbconvert_exporter": "python",
   "pygments_lexer": "ipython3",
   "version": "3.11.2"
  }
 },
 "nbformat": 4,
 "nbformat_minor": 5
}
